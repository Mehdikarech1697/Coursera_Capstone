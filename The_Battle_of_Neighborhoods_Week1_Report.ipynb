{
  "nbformat": 4,
  "nbformat_minor": 0,
  "metadata": {
    "colab": {
      "name": "Untitled5.ipynb",
      "provenance": []
    },
    "kernelspec": {
      "name": "python3",
      "display_name": "Python 3"
    }
  },
  "cells": [
    {
      "cell_type": "markdown",
      "metadata": {
        "id": "Uioj3x_88E5Y",
        "colab_type": "text"
      },
      "source": [
        "# **Vienna Neighbourhood Recommender**\n",
        "\n"
      ]
    },
    {
      "cell_type": "markdown",
      "metadata": {
        "id": "S10xSQjT7uRU",
        "colab_type": "text"
      },
      "source": [
        "#Introduction"
      ]
    },
    {
      "cell_type": "markdown",
      "metadata": {
        "id": "aML3X_ul8qp4",
        "colab_type": "text"
      },
      "source": [
        "This project aims on building a simple recommender for neighbourhoods. It should take data about how\n",
        "the neighbourhood should look like and return the neighbourhoods that fit the criteria best. The\n",
        "information that is provided to the recommender will contain features like areas density of different\n",
        "venues, as well as trending venues. The latter will be taken from the foursquare places API. It will also\n",
        "contain the average price to rent a flat, as well as the population density."
      ]
    },
    {
      "cell_type": "markdown",
      "metadata": {
        "id": "AJ-Ozf1T848L",
        "colab_type": "text"
      },
      "source": [
        "# Business Problem\n",
        "We are developing this project for a client that is in the online estate agent business working in Vienna. Our client website\n",
        "allows the user to search for flats for rent in a certain area the visitor must choose before. Since there\n",
        "are a lot of neighbourhoods, many visitors face problems to find out which ones they could like.\n",
        "Especially for people that move new  to thecity this can be hard and take a lot of time.\n",
        "To outperform competing websites, our client wants to add a recommendation engine that first asks the\n",
        "visitor a few questions about his preferences on how his preferred neighbourhood should look like (e.g.\n",
        "how important are parks, restaurants, etc.) and what his budget is. Based on this data, a list of\n",
        "neighbourhoods that suits the visitors the best  should be provided (ordered by relevance).\n"
      ]
    },
    {
      "cell_type": "markdown",
      "metadata": {
        "id": "rqDJ4mToFcTj",
        "colab_type": "text"
      },
      "source": [
        "#Data Inputs\n",
        "To provide enough high-quality features for our predictor to meet the client’s requirements, we need to\n",
        "access three different data sources. The source and the structure of the data as well as its usage are\n",
        "described below.\n",
        "###**Foursquare** \n",
        "From there we will download the top\n",
        "trending venues of the category food for each of the districts and add it to our existing feature set.\n",
        "We will use the districts centroid point as reference and get all trending venues within a radius of\n",
        "2000 m.\n",
        "###**Immopreise.at**\n",
        "The second data source we will use is a website called https://www.immopreise.at which features lists\n",
        "of flat prices for all districts in Austria. We will download data about Vienna’s districts manually and\n",
        "import them from .csv because we don’t expect them to change regularly. The each of the districts we\n",
        "populated with data about places before, we will add a column containing its average flat rental\n",
        "prices per square meter.\n",
        "###**Open Street Maps**\n",
        "Our most important data source will be Open Street Maps (OSM). Most people know this open source\n",
        "community mapping project for providing free online maps. For many regions of the world, the project\n",
        "also features highly accurate data about which places (e.g. amenities like park benches, restaurants,\n",
        "etc.) exist there. The feature that makes OSM extremely valuable for data science is an API called\n",
        "overpass, which allows us to access all the information of OSM from Python via a simple query\n",
        "language.\n",
        "In this project, we will first use OSM data to retrieve the boundaries of the city’s districts. We can\n",
        "download these boundaries in json. We will use the names of the boundaries as well as the\n",
        "corresponding ID’s to download data about places in the single districts. We will also use the\n",
        "information about boundaries for visualization via folium. At this point some data wrangling and\n",
        "conversion will be necessary to create a valid geojson file.\n",
        "Next we will download data about places in our districts. Referencing a district boundaries ID (relation\n",
        "ID), overpass allows us to get all items that are placed within these boundaries. We will pick 6 types of\n",
        "places (parks, restaurants, universities, dust bins, doctors and supermarkets) for our feasibility study and\n",
        "download them for each district. We then group them by district and calculate their density based on\n",
        "the districts area, which we can calculate from the geojson of the boundaries.\n"
      ]
    },
    {
      "cell_type": "markdown",
      "metadata": {
        "id": "lF2OyOcX73iR",
        "colab_type": "text"
      },
      "source": [
        ""
      ]
    }
  ]
}